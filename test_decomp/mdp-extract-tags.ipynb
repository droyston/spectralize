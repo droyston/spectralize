{
 "cells": [
  {
   "cell_type": "code",
   "execution_count": 1,
   "metadata": {},
   "outputs": [
    {
     "name": "stdout",
     "output_type": "stream",
     "text": [
      "sub folder :  copied-audio/AC_DC/Unknown Album/\n"
     ]
    }
   ],
   "source": [
    "# configure boto3 to access s3 bucket\n",
    "import boto3\n",
    "bucket = 'mdp-spectralize-pal'\n",
    "#Make sure you provide / in the end\n",
    "prefix = 'copied-audio/AC_DC/'  \n",
    "\n",
    "\n",
    "client = boto3.client('s3')\n",
    "result = client.list_objects(Bucket=bucket, Prefix=prefix, Delimiter='/')\n",
    "for o in result.get('CommonPrefixes'):\n",
    "    print ('sub folder : ', o.get('Prefix'))\n",
    "\n"
   ]
  },
  {
   "cell_type": "code",
   "execution_count": 5,
   "metadata": {},
   "outputs": [
    {
     "name": "stdout",
     "output_type": "stream",
     "text": [
      "sub folder :  copied-audio/AC_DC/Unknown Album/\n"
     ]
    }
   ],
   "source": [
    "# configure boto3 to access s3 bucket\n",
    "import boto3\n",
    "bucket = 'mdp-spectralize-pal'\n",
    "#Make sure you provide / in the end\n",
    "prefix = 'copied-audio/AC_DC/'  \n",
    "\n",
    "\n",
    "s3 = boto3.resource('s3')\n",
    "\n",
    "client = boto3.client('s3')\n",
    "result = client.list_objects(Bucket=bucket, Prefix=prefix, Delimiter='/')\n",
    "for o in result.get('CommonPrefixes'):\n",
    "    print ('sub folder : ', o.get('Prefix'))\n",
    "\n"
   ]
  },
  {
   "cell_type": "code",
   "execution_count": 6,
   "metadata": {},
   "outputs": [
    {
     "ename": "SyntaxError",
     "evalue": "EOL while scanning string literal (<ipython-input-6-b00dd7d02948>, line 17)",
     "output_type": "error",
     "traceback": [
      "\u001b[0;36m  File \u001b[0;32m\"<ipython-input-6-b00dd7d02948>\"\u001b[0;36m, line \u001b[0;32m17\u001b[0m\n\u001b[0;31m    \"channels\", \"comment\", \"composer\", \"disc\", \"disc_total\", duration\",\u001b[0m\n\u001b[0m                                                                        ^\u001b[0m\n\u001b[0;31mSyntaxError\u001b[0m\u001b[0;31m:\u001b[0m EOL while scanning string literal\n"
     ]
    }
   ],
   "source": [
    "import boto3\n",
    "from tinytag import TinyTag as tt\n",
    "from io import BytesIO\n",
    "import os\n",
    "import sys\n",
    "import time\n",
    "\n",
    "s3_bucket = 'mdp-spectralize-pal'\n",
    "number_of_files = 0\n",
    "s3 = boto3.resource('s3')\n",
    "bucket = s3.Bucket(s3_bucket)\n",
    "\n",
    "number_of_files=0\n",
    "file_limit=3\n",
    "\n",
    "File_Tags = Row(\"s3_key\", \"album\", \"albumartist\", \"artist\", \"audio_offset\", \"bitrate\", \n",
    "                \"channels\", \"comment\", \"composer\", \"disc\", \"disc_total\", \"duration\", \n",
    "                \"filesize\", \"genre\", \"samplerate\", \"title\", \"track\", \"track_total\", \"year\")\n",
    "file_tags_seq = []\n",
    "\n",
    "#read each file from S3 bucket    \n",
    "for obj in bucket.objects.all():\n",
    "    print( )\n",
    "    number_of_files+=1\n",
    "        \n",
    "    s3_key = obj.key\n",
    "\n",
    "    this_path, this_filen = os.path.split(s3_key)\n",
    "        \n",
    "    print(s3_key)\n",
    "    \n",
    "    local_path = './local_file.mp3'\n",
    "    bucket.download_file(s3_key, local_path)    \n",
    "    tags = tt.get(local_path)\n",
    "    print(tags)\n",
    "\n",
    "    file_tags_seq =\n",
    "    \n",
    "            \n",
    "    if (number_of_files >= file_limit):\n",
    "        break\n",
    "        "
   ]
  },
  {
   "cell_type": "code",
   "execution_count": 34,
   "metadata": {},
   "outputs": [
    {
     "name": "stdout",
     "output_type": "stream",
     "text": [
      "/home/dylanroyston/test\n"
     ]
    }
   ],
   "source": [
    "import boto3\n",
    "from mp3_tagger import MP3File, VERSION_1, VERSION_2, VERSION_BOTH\n",
    "from io import BytesIO\n",
    "import os\n",
    "import sys\n",
    "import time\n",
    "\n",
    "s3_bucket = 'mdp-spectralize-pal'\n",
    "\n",
    "number_of_files = 0\n",
    "\n",
    "s3 = boto3.resource('s3')\n",
    "boto_client = boto3.client('s3')\n",
    "bucket = s3.Bucket(s3_bucket)\n",
    "\n",
    "\n",
    "#read each file from S3 bucket\n",
    "while number_of_files < 2:\n",
    "    \n",
    "    for obj in bucket.objects.all():\n",
    "        number_of_files+=1\n",
    "        \n",
    "        s3_key = obj.key\n",
    "\n",
    "        this_path, this_filen = os.path.split(s3_key)\n",
    "        \n",
    "        print(s3_key)\n",
    "        #print(this_path)\n",
    "        #print(this_filen)\n",
    "        \n",
    "        prefix = os.getcwd()\n",
    "        \n",
    "        if \"mp3\" in s3_key:\n",
    "            bucket.download_file(s3_key, (prefix + '/' + s3_key))\n",
    "            mp3 = MP3File((prefix + '/' + s3_key))\n",
    "            tags = mp3.get_tags()\n",
    "            print(tags)\n",
    "        \n",
    "        #audio_obj_stream = boto_client.get_object(Bucket=s3_bucket, Key=s3_key)\n",
    "        #audio_obj = BytesIO(audio_obj_stream['Body'].read())\n",
    "        \n",
    "        #mp3 = MP3File(audio_obj)\n",
    "        \n",
    "        #tags = mp3.get_tags()\n",
    "        #print(tags)\n",
    "                        \n",
    "        #tags = audio_obj_stream.get_tags()\n",
    "        #print(tags)"
   ]
  },
  {
   "cell_type": "code",
   "execution_count": 8,
   "metadata": {},
   "outputs": [
    {
     "name": "stdout",
     "output_type": "stream",
     "text": [
      "copied-audio/\n",
      "copied-audio/634 Project and Toshiro Masuda/Naruto Movie _Yukihime Ninpouchou da tte/01 Konoha Densetsu.mp3\n"
     ]
    },
    {
     "ename": "NameError",
     "evalue": "name 'album' is not defined",
     "output_type": "error",
     "traceback": [
      "\u001b[0;31m---------------------------------------------------------------------------\u001b[0m",
      "\u001b[0;31mNameError\u001b[0m                                 Traceback (most recent call last)",
      "\u001b[0;32m<ipython-input-8-d090e5fa151a>\u001b[0m in \u001b[0;36m<module>\u001b[0;34m\u001b[0m\n\u001b[1;32m     76\u001b[0m \u001b[0;34m\u001b[0m\u001b[0m\n\u001b[1;32m     77\u001b[0m                 \u001b[0;31m# append current file data to DataFrame\u001b[0m\u001b[0;34m\u001b[0m\u001b[0;34m\u001b[0m\u001b[0;34m\u001b[0m\u001b[0m\n\u001b[0;32m---> 78\u001b[0;31m         indiv_tag_list.append(File_Tags(s3_key, album, albumartist, artist, \n\u001b[0m\u001b[1;32m     79\u001b[0m                                                 \u001b[0maudio_offset\u001b[0m\u001b[0;34m,\u001b[0m \u001b[0mbitrate\u001b[0m\u001b[0;34m,\u001b[0m \u001b[0mchannels\u001b[0m\u001b[0;34m,\u001b[0m\u001b[0;34m\u001b[0m\u001b[0;34m\u001b[0m\u001b[0m\n\u001b[1;32m     80\u001b[0m                                                 \u001b[0mcomment\u001b[0m\u001b[0;34m,\u001b[0m \u001b[0mcomposer\u001b[0m\u001b[0;34m,\u001b[0m \u001b[0mdisc\u001b[0m\u001b[0;34m,\u001b[0m\u001b[0;34m\u001b[0m\u001b[0;34m\u001b[0m\u001b[0m\n",
      "\u001b[0;31mNameError\u001b[0m: name 'album' is not defined"
     ]
    }
   ],
   "source": [
    "# import/configure packages\n",
    "#import pyspark.sql\n",
    "from pyspark.sql import *\n",
    "import pyspark.sql.functions as f\n",
    "from pyspark import SparkConf\n",
    "from pyspark import SparkContext\n",
    "#from pyspark.ml import Pipeline\n",
    "#from pyspark.ml.feature import RegexTokenizer, NGram, HashingTF, MinHashLSH\n",
    "#import pymysql\n",
    "import boto3\n",
    "from tinytag import TinyTag as tt\n",
    "#from io import BytesIO\n",
    "import os\n",
    "import sys\n",
    "import time\n",
    "\n",
    "#sys.path.insert(0, os.path.dirname(os.path.abspath(__file__)) + \"/lib\")\n",
    "#import config\n",
    "time_seq = []\n",
    "\n",
    "\n",
    "# function to read audio files from S3 bucket and extract tags    \n",
    "    # basic initialization\n",
    "time_seq.append(['start-read-audio', time.time()])\n",
    "        \n",
    "    \n",
    "    # DataFrame schema\n",
    "File_Tags = Row(\"s3_key\", \"album\", \"albumartist\", \"artist\", \"audio_offset\", \n",
    "                \"bitrate\", \"channels\", \"comment\", \"composer\", \"disc\", \n",
    "                \"disc_total\", \"duration\", \"filesize\", \"genre\", \"samplerate\", \n",
    "                \"title\", \"track\", \"track_total\", \"year\")\n",
    "\n",
    "    \n",
    "    # configure S3 access\n",
    "s3_bucket = 'mdp-spectralize-pal'\n",
    "number_of_files = 0\n",
    "s3 = boto3.resource('s3')\n",
    "bucket = s3.Bucket(s3_bucket)\n",
    "number_of_files=0\n",
    "file_limit=5\n",
    "    \n",
    "    \n",
    "    #read each file from S3 bucket    \n",
    "for obj in bucket.objects.all():\n",
    "    number_of_files+=1\n",
    "            \n",
    "    s3_key = obj.key\n",
    "    \n",
    "    this_path, this_filen = os.path.split(s3_key)\n",
    "            \n",
    "    print(s3_key)\n",
    "        #print(this_path)\n",
    "        #print(this_filen)\n",
    "            \n",
    "        # extract tags from mp3 files\n",
    "    if \"mp3\" in s3_key:\n",
    "        local_path = './local_file.mp3'\n",
    "        bucket.download_file(s3_key, local_path)\n",
    "            #mp3 = MP3File(local_path)\n",
    "                \n",
    "            # try to run tag-extract, may crash on invalid files\n",
    "                #tags = mp3.get_tags()\n",
    "        tags = tt.get(local_path)\n",
    "                \n",
    "                # extract tags from tinytag object\n",
    "        indiv_tags = (s3_key, tags.album, tags.albumartist, tags.artist, \n",
    "                              tags.audio_offset, tags.bitrate, tags.channels, \n",
    "                              tags.comment, tags.composer, tags.disc, \n",
    "                              tags.disc_total, tags.duration, tags.filesize, \n",
    "                              tags.genre, tags.samplerate, tags.title, tags.track, \n",
    "                              tags.track_total, tags.year)\n",
    "                \n",
    "                # convert tuple object to list\n",
    "        indiv_tag_list = list(indiv_tags)\n",
    "                \n",
    "\n",
    "                # append current file data to DataFrame\n",
    "        indiv_tag_list.append(File_Tags(s3_key, album, albumartist, artist, \n",
    "                                                audio_offset, bitrate, channels, \n",
    "                                                comment, composer, disc, \n",
    "                                                disc_total, duration, filesize, \n",
    "                                                genre, samplerate, title, track, \n",
    "                                                track_total, year))\n",
    "        indiv_tag_list.append(File_Tags(args))\n",
    "                \n",
    "                #print(tags)\n",
    "            \n",
    "                \n",
    "        # stop process when file_limit is crossed (small batches)\n",
    "    if (number_of_files >= file_limit):\n",
    "        break\n",
    "        \n",
    "File_Tags.head(5)"
   ]
  },
  {
   "cell_type": "code",
   "execution_count": 18,
   "metadata": {},
   "outputs": [
    {
     "ename": "ModuleNotFoundError",
     "evalue": "No module named 'spark'",
     "output_type": "error",
     "traceback": [
      "\u001b[0;31m---------------------------------------------------------------------------\u001b[0m",
      "\u001b[0;31mModuleNotFoundError\u001b[0m                       Traceback (most recent call last)",
      "\u001b[0;32m<ipython-input-18-7c4050ac08a6>\u001b[0m in \u001b[0;36m<module>\u001b[0;34m\u001b[0m\n\u001b[0;32m----> 1\u001b[0;31m \u001b[0;32mfrom\u001b[0m \u001b[0mspark\u001b[0m \u001b[0;32mimport\u001b[0m \u001b[0;34m*\u001b[0m\u001b[0;34m\u001b[0m\u001b[0;34m\u001b[0m\u001b[0m\n\u001b[0m\u001b[1;32m      2\u001b[0m \u001b[0;32mfrom\u001b[0m \u001b[0mpyspark\u001b[0m\u001b[0;34m.\u001b[0m\u001b[0msql\u001b[0m \u001b[0;32mimport\u001b[0m \u001b[0;34m*\u001b[0m\u001b[0;34m\u001b[0m\u001b[0;34m\u001b[0m\u001b[0m\n\u001b[1;32m      3\u001b[0m \u001b[0;32mfrom\u001b[0m \u001b[0mtinytag\u001b[0m \u001b[0;32mimport\u001b[0m \u001b[0mTinyTag\u001b[0m\u001b[0;34m\u001b[0m\u001b[0;34m\u001b[0m\u001b[0m\n\u001b[1;32m      4\u001b[0m \u001b[0;34m\u001b[0m\u001b[0m\n\u001b[1;32m      5\u001b[0m \u001b[0mFile_Tags\u001b[0m \u001b[0;34m=\u001b[0m \u001b[0mRow\u001b[0m\u001b[0;34m(\u001b[0m\u001b[0;34m\"album\"\u001b[0m\u001b[0;34m,\u001b[0m \u001b[0;34m\"albumartist\"\u001b[0m\u001b[0;34m)\u001b[0m\u001b[0;34m\u001b[0m\u001b[0;34m\u001b[0m\u001b[0m\n",
      "\u001b[0;31mModuleNotFoundError\u001b[0m: No module named 'spark'"
     ]
    }
   ],
   "source": [
    "from spark import *\n",
    "from pyspark.sql import *\n",
    "from tinytag import TinyTag\n",
    "\n",
    "File_Tags = Row(\"album\", \"albumartist\")\n",
    "\n",
    "tag = TinyTag.get('/home/dylanroyston/Music/spectralize_data/Bastille - Bad Blood.mp3')\n",
    "\n",
    "file1 = File_Tags(tag.album, tag.albumartist)\n",
    "\n",
    "tag = TinyTag.get('/home/dylanroyston/Music/spectralize_data/03 Crystallize.m4a')\n",
    "\n",
    "file2 = File_Tags(tag.album, tag.albumartist)\n",
    "\n",
    "\n",
    "file_seq = [file1, file2]\n",
    "dframe = spark.createDataFrame(file_seq)\n",
    "display(dframe)\n",
    "\n"
   ]
  },
  {
   "cell_type": "code",
   "execution_count": null,
   "metadata": {},
   "outputs": [],
   "source": []
  },
  {
   "cell_type": "code",
   "execution_count": null,
   "metadata": {},
   "outputs": [],
   "source": []
  }
 ],
 "metadata": {
  "kernelspec": {
   "display_name": "Python 3",
   "language": "python",
   "name": "python3"
  },
  "language_info": {
   "codemirror_mode": {
    "name": "ipython",
    "version": 3
   },
   "file_extension": ".py",
   "mimetype": "text/x-python",
   "name": "python",
   "nbconvert_exporter": "python",
   "pygments_lexer": "ipython3",
   "version": "3.7.6"
  }
 },
 "nbformat": 4,
 "nbformat_minor": 4
}
