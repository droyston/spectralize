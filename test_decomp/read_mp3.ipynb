{
 "cells": [
  {
   "cell_type": "code",
   "execution_count": 5,
   "metadata": {},
   "outputs": [
    {
     "name": "stdout",
     "output_type": "stream",
     "text": [
      "{'ID3TagV1': {'song': 'Bad Blood', 'artist': 'Bastille', 'album': 'Bad Blood (The Extended Cut)', 'year': '2013', 'comment': None, 'track': 3, 'genre': 'Other'}, 'ID3TagV2': {'artist': 'Bastille', 'band': 'Bastille', 'album': 'Bad Blood (The Extended Cut)', 'song': 'Bad Blood', 'track': '3/19', 'genre': 'Alternative', 'composer': 'Dan Smith', 'copyright': '℗  2013 The copyright in this sound recording is owned by Virgin Records Ltd', 'year': '2013-03-04T08:00:00Z'}}\n"
     ]
    }
   ],
   "source": [
    "from mp3_tagger import MP3File, VERSION_1, VERSION_2, VERSION_BOTH\n",
    "\n",
    "mp3 = MP3File('/home/dylanroyston/Music/spectralize_data/Bastille - Bad Blood.mp3')\n",
    "\n",
    "tags = mp3.get_tags()\n",
    "\n",
    "print(tags)"
   ]
  },
  {
   "cell_type": "code",
   "execution_count": 6,
   "metadata": {},
   "outputs": [
    {
     "name": "stdout",
     "output_type": "stream",
     "text": [
      "{\"album\": \"Bad Blood (The Extended Cut)\", \"albumartist\": \"Bastille\", \"artist\": \"Bastille\", \"audio_offset\": 90638, \"bitrate\": 320, \"channels\": 2, \"comment\": null, \"composer\": \"Dan Smith\", \"disc\": \"1\", \"disc_total\": \"1\", \"duration\": 212.68278901146982, \"filesize\": 8597280, \"genre\": \"Alternative\", \"samplerate\": 44100, \"title\": \"Bad Blood\", \"track\": \"3\", \"track_total\": \"19\", \"year\": \"2013-03-04T08:00:00Z\"}\n"
     ]
    }
   ],
   "source": [
    "from tinytag import TinyTag\n",
    "tag = TinyTag.get('/home/dylanroyston/Music/spectralize_data/Bastille - Bad Blood.mp3')\n",
    "print(tag)"
   ]
  },
  {
   "cell_type": "code",
   "execution_count": 7,
   "metadata": {},
   "outputs": [
    {
     "name": "stdout",
     "output_type": "stream",
     "text": [
      "{\"album\": \"Lindsey Stirling\", \"albumartist\": null, \"artist\": \"Lindsey Stirling\", \"audio_offset\": null, \"bitrate\": 256.0, \"channels\": 2, \"comment\": null, \"composer\": null, \"disc\": 1, \"disc_total\": 1, \"duration\": 258.8560544217687, \"filesize\": 8673742, \"genre\": \"Electronica\", \"samplerate\": 44100, \"title\": \"Crystallize\", \"track\": 3, \"track_total\": 12, \"year\": \"2012\"}\n"
     ]
    }
   ],
   "source": [
    "from tinytag import TinyTag\n",
    "tag = TinyTag.get('/home/dylanroyston/Music/spectralize_data/03 Crystallize.m4a')\n",
    "print(tag)"
   ]
  },
  {
   "cell_type": "code",
   "execution_count": 8,
   "metadata": {},
   "outputs": [
    {
     "name": "stdout",
     "output_type": "stream",
     "text": [
      "{\"album\": \"On High\", \"albumartist\": null, \"artist\": \"Zoe Keating\", \"audio_offset\": 10921, \"bitrate\": 256, \"channels\": 2, \"comment\": null, \"composer\": null, \"disc\": null, \"disc_total\": null, \"duration\": 386.79510204081635, \"filesize\": 12388068, \"genre\": null, \"samplerate\": 44100, \"title\": \"Escape Artist\", \"track\": null, \"track_total\": null, \"year\": null}\n"
     ]
    }
   ],
   "source": [
    "from tinytag import TinyTag\n",
    "tag = TinyTag.get('/home/dylanroyston/Music/spectralize_data/Escape_Artist.mp3')\n",
    "print(tag)"
   ]
  },
  {
   "cell_type": "code",
   "execution_count": 9,
   "metadata": {},
   "outputs": [
    {
     "name": "stdout",
     "output_type": "stream",
     "text": [
      "{\"album\": null, \"albumartist\": null, \"artist\": null, \"audio_offset\": null, \"bitrate\": 1378.125, \"channels\": 2, \"comment\": null, \"composer\": null, \"disc\": null, \"disc_total\": null, \"duration\": null, \"filesize\": 16421218, \"genre\": null, \"samplerate\": 44100, \"title\": null, \"track\": null, \"track_total\": null, \"year\": null}\n"
     ]
    }
   ],
   "source": [
    "from tinytag import TinyTag\n",
    "tag = TinyTag.get('/home/dylanroyston/Music/spectralize_data/Circle of Innocence.wav')\n",
    "print(tag)"
   ]
  },
  {
   "cell_type": "code",
   "execution_count": 10,
   "metadata": {},
   "outputs": [
    {
     "name": "stdout",
     "output_type": "stream",
     "text": [
      "{\"album\": \"Cloud Atlas Soundtrack\", \"albumartist\": null, \"artist\": \"Cloud Atlas Original Soundtrack\", \"audio_offset\": 10938, \"bitrate\": 128, \"channels\": 2, \"comment\": null, \"composer\": null, \"disc\": null, \"disc_total\": null, \"duration\": 125.88408163265306, \"filesize\": 2024787, \"genre\": \"Soundtrack\", \"samplerate\": 44100, \"title\": \"Cloud Atlas Sextet for Piano\", \"track\": null, \"track_total\": null, \"year\": null}\n"
     ]
    }
   ],
   "source": [
    "from tinytag import TinyTag\n",
    "tag = TinyTag.get('/home/dylanroyston/Music/spectralize_data/Cloud Atlas Sextet for Piano.mp3')\n",
    "print(tag)"
   ]
  },
  {
   "cell_type": "code",
   "execution_count": 2,
   "metadata": {},
   "outputs": [
    {
     "ename": "AttributeError",
     "evalue": "'NoneType' object has no attribute 'group'",
     "output_type": "error",
     "traceback": [
      "\u001b[0;31m---------------------------------------------------------------------------\u001b[0m",
      "\u001b[0;31mValueError\u001b[0m                                Traceback (most recent call last)",
      "\u001b[0;32m~/anaconda3/lib/python3.7/site-packages/mp3_tagger/id3.py\u001b[0m in \u001b[0;36m_unpack_bytes\u001b[0;34m(self)\u001b[0m\n\u001b[1;32m    177\u001b[0m             \u001b[0;32mtry\u001b[0m\u001b[0;34m:\u001b[0m\u001b[0;34m\u001b[0m\u001b[0;34m\u001b[0m\u001b[0m\n\u001b[0;32m--> 178\u001b[0;31m                 \u001b[0mval\u001b[0m \u001b[0;34m=\u001b[0m \u001b[0mint\u001b[0m\u001b[0;34m(\u001b[0m\u001b[0mval\u001b[0m\u001b[0;34m)\u001b[0m\u001b[0;34m\u001b[0m\u001b[0;34m\u001b[0m\u001b[0m\n\u001b[0m\u001b[1;32m    179\u001b[0m             \u001b[0;32mexcept\u001b[0m \u001b[0mValueError\u001b[0m\u001b[0;34m:\u001b[0m\u001b[0;34m\u001b[0m\u001b[0;34m\u001b[0m\u001b[0m\n",
      "\u001b[0;31mValueError\u001b[0m: invalid literal for int() with base 10: ''",
      "\nDuring handling of the above exception, another exception occurred:\n",
      "\u001b[0;31mAttributeError\u001b[0m                            Traceback (most recent call last)",
      "\u001b[0;32m<ipython-input-2-955c622e1b4e>\u001b[0m in \u001b[0;36m<module>\u001b[0;34m\u001b[0m\n\u001b[1;32m      3\u001b[0m \u001b[0mmp3\u001b[0m \u001b[0;34m=\u001b[0m \u001b[0mMP3File\u001b[0m\u001b[0;34m(\u001b[0m\u001b[0;34m'/home/dylanroyston/Music/spectralize_data/01 Konoha Densetsu.mp3'\u001b[0m\u001b[0;34m)\u001b[0m\u001b[0;34m\u001b[0m\u001b[0;34m\u001b[0m\u001b[0m\n\u001b[1;32m      4\u001b[0m \u001b[0;34m\u001b[0m\u001b[0m\n\u001b[0;32m----> 5\u001b[0;31m \u001b[0mtags\u001b[0m \u001b[0;34m=\u001b[0m \u001b[0mmp3\u001b[0m\u001b[0;34m.\u001b[0m\u001b[0mget_tags\u001b[0m\u001b[0;34m(\u001b[0m\u001b[0;34m)\u001b[0m\u001b[0;34m\u001b[0m\u001b[0;34m\u001b[0m\u001b[0m\n\u001b[0m\u001b[1;32m      6\u001b[0m \u001b[0;34m\u001b[0m\u001b[0m\n\u001b[1;32m      7\u001b[0m \u001b[0mprint\u001b[0m\u001b[0;34m(\u001b[0m\u001b[0mtags\u001b[0m\u001b[0;34m)\u001b[0m\u001b[0;34m\u001b[0m\u001b[0;34m\u001b[0m\u001b[0m\n",
      "\u001b[0;32m~/anaconda3/lib/python3.7/site-packages/mp3_tagger/mp3.py\u001b[0m in \u001b[0;36mget_tags\u001b[0;34m(self)\u001b[0m\n\u001b[1;32m    139\u001b[0m                 \u001b[0;32mfor\u001b[0m \u001b[0mtag\u001b[0m \u001b[0;32min\u001b[0m \u001b[0mtags\u001b[0m\u001b[0;34m:\u001b[0m\u001b[0;34m\u001b[0m\u001b[0;34m\u001b[0m\u001b[0m\n\u001b[1;32m    140\u001b[0m                     \u001b[0;32mif\u001b[0m \u001b[0misinstance\u001b[0m\u001b[0;34m(\u001b[0m\u001b[0mtag\u001b[0m\u001b[0;34m,\u001b[0m \u001b[0mclass_\u001b[0m\u001b[0;34m)\u001b[0m\u001b[0;34m:\u001b[0m\u001b[0;34m\u001b[0m\u001b[0;34m\u001b[0m\u001b[0m\n\u001b[0;32m--> 141\u001b[0;31m                         \u001b[0mtmp_dict\u001b[0m\u001b[0;34m[\u001b[0m\u001b[0mtag\u001b[0m\u001b[0;34m.\u001b[0m\u001b[0mtitle\u001b[0m\u001b[0;34m]\u001b[0m \u001b[0;34m=\u001b[0m \u001b[0mtag\u001b[0m\u001b[0;34m.\u001b[0m\u001b[0mvalue\u001b[0m\u001b[0;34m\u001b[0m\u001b[0;34m\u001b[0m\u001b[0m\n\u001b[0m\u001b[1;32m    142\u001b[0m                 \u001b[0mver_dict\u001b[0m\u001b[0;34m[\u001b[0m\u001b[0mclass_\u001b[0m\u001b[0;34m.\u001b[0m\u001b[0m__name__\u001b[0m\u001b[0;34m]\u001b[0m \u001b[0;34m=\u001b[0m \u001b[0mtmp_dict\u001b[0m\u001b[0;34m.\u001b[0m\u001b[0mcopy\u001b[0m\u001b[0;34m(\u001b[0m\u001b[0;34m)\u001b[0m\u001b[0;34m\u001b[0m\u001b[0;34m\u001b[0m\u001b[0m\n\u001b[1;32m    143\u001b[0m                 \u001b[0mtags_dict\u001b[0m\u001b[0;34m.\u001b[0m\u001b[0mupdate\u001b[0m\u001b[0;34m(\u001b[0m\u001b[0mver_dict\u001b[0m\u001b[0;34m.\u001b[0m\u001b[0mcopy\u001b[0m\u001b[0;34m(\u001b[0m\u001b[0;34m)\u001b[0m\u001b[0;34m)\u001b[0m\u001b[0;34m\u001b[0m\u001b[0;34m\u001b[0m\u001b[0m\n",
      "\u001b[0;32m~/anaconda3/lib/python3.7/site-packages/mp3_tagger/id3.py\u001b[0m in \u001b[0;36mvalue\u001b[0;34m(self)\u001b[0m\n\u001b[1;32m     38\u001b[0m         \u001b[0;34m\"\"\"Tag value getter.\"\"\"\u001b[0m\u001b[0;34m\u001b[0m\u001b[0;34m\u001b[0m\u001b[0m\n\u001b[1;32m     39\u001b[0m \u001b[0;34m\u001b[0m\u001b[0m\n\u001b[0;32m---> 40\u001b[0;31m         \u001b[0mval\u001b[0m \u001b[0;34m=\u001b[0m \u001b[0mself\u001b[0m\u001b[0;34m.\u001b[0m\u001b[0m_unpack_bytes\u001b[0m\u001b[0;34m(\u001b[0m\u001b[0;34m)\u001b[0m\u001b[0;34m\u001b[0m\u001b[0;34m\u001b[0m\u001b[0m\n\u001b[0m\u001b[1;32m     41\u001b[0m         \u001b[0;32mif\u001b[0m \u001b[0mself\u001b[0m\u001b[0;34m.\u001b[0m\u001b[0mtitle\u001b[0m \u001b[0;34m==\u001b[0m \u001b[0;34m'genre'\u001b[0m \u001b[0;32mand\u001b[0m \u001b[0misinstance\u001b[0m\u001b[0;34m(\u001b[0m\u001b[0mval\u001b[0m\u001b[0;34m,\u001b[0m \u001b[0mint\u001b[0m\u001b[0;34m)\u001b[0m\u001b[0;34m:\u001b[0m\u001b[0;34m\u001b[0m\u001b[0;34m\u001b[0m\u001b[0m\n\u001b[1;32m     42\u001b[0m             \u001b[0;32mtry\u001b[0m\u001b[0;34m:\u001b[0m\u001b[0;34m\u001b[0m\u001b[0;34m\u001b[0m\u001b[0m\n",
      "\u001b[0;32m~/anaconda3/lib/python3.7/site-packages/mp3_tagger/id3.py\u001b[0m in \u001b[0;36m_unpack_bytes\u001b[0;34m(self)\u001b[0m\n\u001b[1;32m    181\u001b[0m                     \u001b[0;32mpass\u001b[0m\u001b[0;34m\u001b[0m\u001b[0;34m\u001b[0m\u001b[0m\n\u001b[1;32m    182\u001b[0m                 \u001b[0;32melse\u001b[0m\u001b[0;34m:\u001b[0m\u001b[0;34m\u001b[0m\u001b[0;34m\u001b[0m\u001b[0m\n\u001b[0;32m--> 183\u001b[0;31m                     \u001b[0mval\u001b[0m \u001b[0;34m=\u001b[0m \u001b[0mint\u001b[0m\u001b[0;34m(\u001b[0m\u001b[0mre\u001b[0m\u001b[0;34m.\u001b[0m\u001b[0msearch\u001b[0m\u001b[0;34m(\u001b[0m\u001b[0;34mr'\\d+'\u001b[0m\u001b[0;34m,\u001b[0m \u001b[0mval\u001b[0m\u001b[0;34m)\u001b[0m\u001b[0;34m.\u001b[0m\u001b[0mgroup\u001b[0m\u001b[0;34m(\u001b[0m\u001b[0;36m0\u001b[0m\u001b[0;34m)\u001b[0m\u001b[0;34m)\u001b[0m\u001b[0;34m\u001b[0m\u001b[0;34m\u001b[0m\u001b[0m\n\u001b[0m\u001b[1;32m    184\u001b[0m         \u001b[0;32mreturn\u001b[0m \u001b[0mval\u001b[0m\u001b[0;34m\u001b[0m\u001b[0;34m\u001b[0m\u001b[0m\n\u001b[1;32m    185\u001b[0m \u001b[0;34m\u001b[0m\u001b[0m\n",
      "\u001b[0;31mAttributeError\u001b[0m: 'NoneType' object has no attribute 'group'"
     ]
    }
   ],
   "source": [
    "from mp3_tagger import MP3File, VERSION_1, VERSION_2, VERSION_BOTH\n",
    "\n",
    "mp3 = MP3File('/home/dylanroyston/Music/spectralize_data/01 Konoha Densetsu.mp3')\n",
    "\n",
    "tags = mp3.get_tags()\n",
    "\n",
    "print(tags)"
   ]
  },
  {
   "cell_type": "code",
   "execution_count": null,
   "metadata": {},
   "outputs": [],
   "source": []
  }
 ],
 "metadata": {
  "kernelspec": {
   "display_name": "Python 3",
   "language": "python",
   "name": "python3"
  },
  "language_info": {
   "codemirror_mode": {
    "name": "ipython",
    "version": 3
   },
   "file_extension": ".py",
   "mimetype": "text/x-python",
   "name": "python",
   "nbconvert_exporter": "python",
   "pygments_lexer": "ipython3",
   "version": "3.7.6"
  }
 },
 "nbformat": 4,
 "nbformat_minor": 4
}
