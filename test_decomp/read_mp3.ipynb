{
 "cells": [
  {
   "cell_type": "code",
   "execution_count": 5,
   "metadata": {},
   "outputs": [
    {
     "name": "stdout",
     "output_type": "stream",
     "text": [
      "{'ID3TagV1': {'song': 'Bad Blood', 'artist': 'Bastille', 'album': 'Bad Blood (The Extended Cut)', 'year': '2013', 'comment': None, 'track': 3, 'genre': 'Other'}, 'ID3TagV2': {'artist': 'Bastille', 'band': 'Bastille', 'album': 'Bad Blood (The Extended Cut)', 'song': 'Bad Blood', 'track': '3/19', 'genre': 'Alternative', 'composer': 'Dan Smith', 'copyright': '℗  2013 The copyright in this sound recording is owned by Virgin Records Ltd', 'year': '2013-03-04T08:00:00Z'}}\n"
     ]
    }
   ],
   "source": [
    "from mp3_tagger import MP3File, VERSION_1, VERSION_2, VERSION_BOTH\n",
    "\n",
    "mp3 = MP3File('/home/dylanroyston/Music/spectralize_data/Bastille - Bad Blood.mp3')\n",
    "\n",
    "tags = mp3.get_tags()\n",
    "\n",
    "print(tags)"
   ]
  },
  {
   "cell_type": "code",
   "execution_count": 6,
   "metadata": {},
   "outputs": [
    {
     "name": "stdout",
     "output_type": "stream",
     "text": [
      "{\"album\": \"Bad Blood (The Extended Cut)\", \"albumartist\": \"Bastille\", \"artist\": \"Bastille\", \"audio_offset\": 90638, \"bitrate\": 320, \"channels\": 2, \"comment\": null, \"composer\": \"Dan Smith\", \"disc\": \"1\", \"disc_total\": \"1\", \"duration\": 212.68278901146982, \"filesize\": 8597280, \"genre\": \"Alternative\", \"samplerate\": 44100, \"title\": \"Bad Blood\", \"track\": \"3\", \"track_total\": \"19\", \"year\": \"2013-03-04T08:00:00Z\"}\n"
     ]
    }
   ],
   "source": [
    "from tinytag import TinyTag\n",
    "tag = TinyTag.get('/home/dylanroyston/Music/spectralize_data/Bastille - Bad Blood.mp3')\n",
    "print(tag)"
   ]
  },
  {
   "cell_type": "code",
   "execution_count": 7,
   "metadata": {},
   "outputs": [
    {
     "name": "stdout",
     "output_type": "stream",
     "text": [
      "{\"album\": \"Lindsey Stirling\", \"albumartist\": null, \"artist\": \"Lindsey Stirling\", \"audio_offset\": null, \"bitrate\": 256.0, \"channels\": 2, \"comment\": null, \"composer\": null, \"disc\": 1, \"disc_total\": 1, \"duration\": 258.8560544217687, \"filesize\": 8673742, \"genre\": \"Electronica\", \"samplerate\": 44100, \"title\": \"Crystallize\", \"track\": 3, \"track_total\": 12, \"year\": \"2012\"}\n"
     ]
    }
   ],
   "source": [
    "from tinytag import TinyTag\n",
    "tag = TinyTag.get('/home/dylanroyston/Music/spectralize_data/03 Crystallize.m4a')\n",
    "print(tag)"
   ]
  },
  {
   "cell_type": "code",
   "execution_count": 8,
   "metadata": {},
   "outputs": [
    {
     "name": "stdout",
     "output_type": "stream",
     "text": [
      "{\"album\": \"On High\", \"albumartist\": null, \"artist\": \"Zoe Keating\", \"audio_offset\": 10921, \"bitrate\": 256, \"channels\": 2, \"comment\": null, \"composer\": null, \"disc\": null, \"disc_total\": null, \"duration\": 386.79510204081635, \"filesize\": 12388068, \"genre\": null, \"samplerate\": 44100, \"title\": \"Escape Artist\", \"track\": null, \"track_total\": null, \"year\": null}\n"
     ]
    }
   ],
   "source": [
    "from tinytag import TinyTag\n",
    "tag = TinyTag.get('/home/dylanroyston/Music/spectralize_data/Escape_Artist.mp3')\n",
    "print(tag)"
   ]
  },
  {
   "cell_type": "code",
   "execution_count": 9,
   "metadata": {},
   "outputs": [
    {
     "name": "stdout",
     "output_type": "stream",
     "text": [
      "{\"album\": null, \"albumartist\": null, \"artist\": null, \"audio_offset\": null, \"bitrate\": 1378.125, \"channels\": 2, \"comment\": null, \"composer\": null, \"disc\": null, \"disc_total\": null, \"duration\": null, \"filesize\": 16421218, \"genre\": null, \"samplerate\": 44100, \"title\": null, \"track\": null, \"track_total\": null, \"year\": null}\n"
     ]
    }
   ],
   "source": [
    "from tinytag import TinyTag\n",
    "tag = TinyTag.get('/home/dylanroyston/Music/spectralize_data/Circle of Innocence.wav')\n",
    "print(tag)"
   ]
  },
  {
   "cell_type": "code",
   "execution_count": 10,
   "metadata": {},
   "outputs": [
    {
     "name": "stdout",
     "output_type": "stream",
     "text": [
      "{\"album\": \"Cloud Atlas Soundtrack\", \"albumartist\": null, \"artist\": \"Cloud Atlas Original Soundtrack\", \"audio_offset\": 10938, \"bitrate\": 128, \"channels\": 2, \"comment\": null, \"composer\": null, \"disc\": null, \"disc_total\": null, \"duration\": 125.88408163265306, \"filesize\": 2024787, \"genre\": \"Soundtrack\", \"samplerate\": 44100, \"title\": \"Cloud Atlas Sextet for Piano\", \"track\": null, \"track_total\": null, \"year\": null}\n"
     ]
    }
   ],
   "source": [
    "from tinytag import TinyTag\n",
    "tag = TinyTag.get('/home/dylanroyston/Music/spectralize_data/Cloud Atlas Sextet for Piano.mp3')\n",
    "print(tag)"
   ]
  },
  {
   "cell_type": "code",
   "execution_count": null,
   "metadata": {},
   "outputs": [],
   "source": []
  }
 ],
 "metadata": {
  "kernelspec": {
   "display_name": "Python 3",
   "language": "python",
   "name": "python3"
  },
  "language_info": {
   "codemirror_mode": {
    "name": "ipython",
    "version": 3
   },
   "file_extension": ".py",
   "mimetype": "text/x-python",
   "name": "python",
   "nbconvert_exporter": "python",
   "pygments_lexer": "ipython3",
   "version": "3.7.6"
  }
 },
 "nbformat": 4,
 "nbformat_minor": 4
}
