{
 "cells": [
  {
   "cell_type": "code",
   "execution_count": 9,
   "metadata": {},
   "outputs": [
    {
     "data": {
      "text/plain": [
       "['mdp-spectralize-pal/copied-audio/AC_DC/Unknown Album/02 You Shook Me All Night Long.mp3',\n",
       " \"mdp-spectralize-pal/copied-audio/AC_DC/Unknown Album/04 Hell's Bells.mp3\",\n",
       " 'mdp-spectralize-pal/copied-audio/AC_DC/Unknown Album/07 Highway to Hell.mp3']"
      ]
     },
     "execution_count": 9,
     "metadata": {},
     "output_type": "execute_result"
    }
   ],
   "source": [
    "import s3fs\n",
    "fs = s3fs.S3FileSystem(anon=False)\n",
    "fs.ls('mdp-spectralize-pal/copied-audio/AC_DC/Unknown Album')"
   ]
  },
  {
   "cell_type": "code",
   "execution_count": null,
   "metadata": {},
   "outputs": [],
   "source": []
  }
 ],
 "metadata": {
  "kernelspec": {
   "display_name": "Python 3",
   "language": "python",
   "name": "python3"
  },
  "language_info": {
   "codemirror_mode": {
    "name": "ipython",
    "version": 3
   },
   "file_extension": ".py",
   "mimetype": "text/x-python",
   "name": "python",
   "nbconvert_exporter": "python",
   "pygments_lexer": "ipython3",
   "version": "3.7.6"
  }
 },
 "nbformat": 4,
 "nbformat_minor": 4
}
